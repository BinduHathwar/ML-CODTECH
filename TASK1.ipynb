{
 "cells": [
  {
   "cell_type": "code",
   "execution_count": 1,
   "id": "67d11d3f",
   "metadata": {},
   "outputs": [
    {
     "name": "stdout",
     "output_type": "stream",
     "text": [
      "Dataset Preview:\n",
      "    area   price\n",
      "0   8450  208500\n",
      "1   9600  181500\n",
      "2  11250  223500\n",
      "3   9550  140000\n",
      "4  14260  250000\n",
      "\n",
      "Checking for missing values...\n",
      "area     0\n",
      "price    0\n",
      "dtype: int64\n",
      "\n",
      "Model Evaluation:\n",
      "Mean Squared Error: 7189094014.83\n",
      "R-squared: 0.06\n",
      "\n",
      "Sample Predictions:\n",
      "      Actual      Predicted\n",
      "892   154500  177091.375138\n",
      "1105  325000  184435.825624\n",
      "413   115000  178135.120574\n",
      "522   159000  170565.098730\n",
      "1036  315500  185663.086742\n"
     ]
    }
   ],
   "source": [
    "# Import necessary libraries\n",
    "import pandas as pd\n",
    "import numpy as np\n",
    "from sklearn.model_selection import train_test_split\n",
    "from sklearn.linear_model import LinearRegression\n",
    "from sklearn.metrics import mean_squared_error, r2_score\n",
    "\n",
    "# Step 1: Load the dataset\n",
    "file_path = 'C:\\\\Users\\\\Dell\\\\OneDrive\\\\Desktop\\\\CODETECH\\\\house\\\\HousePricePredictionusing_LinearRegression\\\\dataset.csv'  # Replace with the correct path\n",
    "data = pd.read_csv(file_path)\n",
    "\n",
    "# Step 2: Preview the dataset\n",
    "print(\"Dataset Preview:\")\n",
    "print(data.head())\n",
    "\n",
    "# Step 3: Check for missing values\n",
    "print(\"\\nChecking for missing values...\")\n",
    "print(data.isnull().sum())\n",
    "\n",
    "# Step 4: Preprocessing\n",
    "# Drop rows with missing values\n",
    "data = data.dropna()\n",
    "\n",
    "# Assuming the dataset has 'features' and 'price' columns\n",
    "# Replace 'features' with the actual column names for your features\n",
    "# Replace 'price' with the actual column name for home prices\n",
    "X = data.drop(columns=['price'])  # Features (replace 'price' with your target column name)\n",
    "y = data['price']                 # Target variable (home price)\n",
    "\n",
    "# Step 5: Split the dataset into training and testing sets\n",
    "X_train, X_test, y_train, y_test = train_test_split(X, y, test_size=0.2, random_state=42)\n",
    "\n",
    "# Step 6: Train the Linear Regression model\n",
    "model = LinearRegression()\n",
    "model.fit(X_train, y_train)\n",
    "\n",
    "# Step 7: Make predictions\n",
    "y_pred = model.predict(X_test)\n",
    "\n",
    "# Step 8: Evaluate the model\n",
    "mse = mean_squared_error(y_test, y_pred)\n",
    "r2 = r2_score(y_test, y_pred)\n",
    "\n",
    "print(\"\\nModel Evaluation:\")\n",
    "print(f\"Mean Squared Error: {mse:.2f}\")\n",
    "print(f\"R-squared: {r2:.2f}\")\n",
    "\n",
    "# Step 9: Display predictions alongside actual values\n",
    "results = pd.DataFrame({'Actual': y_test, 'Predicted': y_pred})\n",
    "print(\"\\nSample Predictions:\")\n",
    "print(results.head())\n"
   ]
  },
  {
   "cell_type": "code",
   "execution_count": null,
   "id": "4427d501",
   "metadata": {},
   "outputs": [],
   "source": []
  },
  {
   "cell_type": "code",
   "execution_count": null,
   "id": "7860651b",
   "metadata": {},
   "outputs": [],
   "source": []
  }
 ],
 "metadata": {
  "kernelspec": {
   "display_name": "Python 3 (ipykernel)",
   "language": "python",
   "name": "python3"
  },
  "language_info": {
   "codemirror_mode": {
    "name": "ipython",
    "version": 3
   },
   "file_extension": ".py",
   "mimetype": "text/x-python",
   "name": "python",
   "nbconvert_exporter": "python",
   "pygments_lexer": "ipython3",
   "version": "3.9.12"
  }
 },
 "nbformat": 4,
 "nbformat_minor": 5
}
